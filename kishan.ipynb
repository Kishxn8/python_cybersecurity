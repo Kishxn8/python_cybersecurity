{
  "nbformat": 4,
  "nbformat_minor": 0,
  "metadata": {
    "colab": {
      "name": "kishan.ipynb",
      "provenance": []
    },
    "kernelspec": {
      "name": "python3",
      "display_name": "Python 3"
    },
    "language_info": {
      "name": "python"
    }
  },
  "cells": [
    {
      "cell_type": "code",
      "metadata": {
        "id": "Xhf3r04paAOs"
      },
      "source": [
        "import requests\n"
      ],
      "execution_count": 7,
      "outputs": []
    },
    {
      "cell_type": "code",
      "metadata": {
        "id": "31OhFy1QaUvc"
      },
      "source": [
        ""
      ],
      "execution_count": null,
      "outputs": []
    },
    {
      "cell_type": "code",
      "metadata": {
        "id": "Zb4XFP2KWa1t"
      },
      "source": [
        "from datetime import datetime"
      ],
      "execution_count": 9,
      "outputs": []
    },
    {
      "cell_type": "code",
      "metadata": {
        "id": "ZAb0micAaa9D"
      },
      "source": [
        ""
      ],
      "execution_count": null,
      "outputs": []
    },
    {
      "cell_type": "code",
      "metadata": {
        "colab": {
          "base_uri": "https://localhost:8080/"
        },
        "id": "Gj6wBrt3abc7",
        "outputId": "a62b833d-b1b3-4f86-a201-c149fe3430b7"
      },
      "source": [
        "api_key = '878a39efe5c2f43a0648bad2b78bea1d'\n",
        "location = input(\"Enter the city name: \")\n",
        "\n",
        "complete_api_link = \"https://api.openweathermap.org/data/2.5/weather?q=\"+location+\"&appid=\"+api_key\n",
        "api_link = requests.get(complete_api_link)\n",
        "api_data = api_link.json()\n",
        "\n",
        "#create variables to store and display data\n",
        "temp_city = ((api_data['main']['temp']) - 273.15)\n",
        "weather_desc = api_data['weather'][0]['description']\n",
        "hmdt = api_data['main']['humidity']\n",
        "wind_spd = api_data['wind']['speed']\n",
        "date_time = datetime.now().strftime(\"%d %b %Y | %I:%M:%S %p\")\n",
        "\n",
        "print (\"-------------------------------------------------------------\")\n",
        "print (\"Weather Stats for - {}  || {}\".format(location.upper(), date_time))\n",
        "print (\"-------------------------------------------------------------\")\n",
        "\n",
        "print (\"Current temperature is: {:.2f} deg C\".format(temp_city))\n",
        "print (\"Current weather desc  :\",weather_desc)\n",
        "print (\"Current Humidity      :\",hmdt, '%')\n",
        "print (\"Current wind speed    :\",wind_spd ,'kmph')"
      ],
      "execution_count": 10,
      "outputs": [
        {
          "output_type": "stream",
          "text": [
            "Enter the city name: mysore\n",
            "-------------------------------------------------------------\n",
            "Weather Stats for - MYSORE  || 23 Jun 2021 | 10:29:37 AM\n",
            "-------------------------------------------------------------\n",
            "Current temperature is: 31.00 deg C\n",
            "Current weather desc  : scattered clouds\n",
            "Current Humidity      : 45 %\n",
            "Current wind speed    : 5.14 kmph\n"
          ],
          "name": "stdout"
        }
      ]
    },
    {
      "cell_type": "code",
      "metadata": {
        "id": "_r2avRfwa3Os"
      },
      "source": [
        "newtext=[temp_city,weather_desc,hmdt,wind_spd,date_time]\n",
        "with open(\"kishan.txt\",'w',encoding = 'utf-8')as f:\n",
        "  f.write(\"-----------------------------------------------------------------------------------\")\n",
        "  f.write(\"Weather Stats for - {} || {}\".format(location.upper(),date_time))\n",
        "  f.write(\"-----------------------------------------------------------------------------------\")\n",
        "  f.write(\"current Temperature is: {:.2f} deg C\\n\".format(newtext[0]))\n",
        "\n",
        "  f.write(\"{},{}\\n\".format(\"Current weather desc :\",newtext[1]))\n",
        "  f.write(\"{} ,{} ,{} \\n\".format(\"Current Humidity :\",newtext[2],\"%\"))\n",
        "  f.write(\"{} ,{} ,{} \\n\".format(\"Current Wind speed  :\",newtext[3],\"kmph\"))\n",
        "  f.write(\"-----------------------------------------------------------------------------------\")\n",
        "\n",
        "  f.close"
      ],
      "execution_count": 12,
      "outputs": []
    },
    {
      "cell_type": "markdown",
      "metadata": {
        "id": "bzcDvtGubvqU"
      },
      "source": [
        ""
      ]
    }
  ]
}